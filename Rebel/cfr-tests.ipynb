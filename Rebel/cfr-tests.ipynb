{
 "metadata": {
  "language_info": {
   "codemirror_mode": {
    "name": "ipython",
    "version": 3
   },
   "file_extension": ".py",
   "mimetype": "text/x-python",
   "name": "python",
   "nbconvert_exporter": "python",
   "pygments_lexer": "ipython3",
   "version": 3
  },
  "orig_nbformat": 2
 },
 "nbformat": 4,
 "nbformat_minor": 2,
 "cells": [
  {
   "source": [
    "import numpy as np\n",
    "from games.coin_game import CoinGame\n",
    "from CFR import CFR"
   ],
   "cell_type": "code",
   "metadata": {},
   "execution_count": null,
   "outputs": []
  },
  {
   "cell_type": "code",
   "execution_count": null,
   "metadata": {},
   "outputs": [],
   "source": [
    "game = CoinGame()\n",
    "pbs = PBS(('root', ), np.array([[0.5, 0.5], [0.5, 0.5]]))\n",
    "G = recursive_game_tree(game, pbs)\n",
    "\n",
    "beliefs = np.ones(game.num_hands) / game.num_hands\n",
    "params = {'dcfr': False, 'linear_update': False, 'num_iters': 10000}\n",
    "\n",
    "solver = CFR(game, G, None, beliefs, params)\n",
    "solver.multistep()\n"
   ]
  }
 ]
}